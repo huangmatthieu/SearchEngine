{
 "cells": [
  {
   "cell_type": "code",
   "execution_count": null,
   "metadata": {
    "collapsed": false
   },
   "outputs": [],
   "source": [
    "import numpy as np\n",
    "import matplotlib.pyplot as plt\n",
    "\n",
    "prec = [0.002564102564102564, 0.08974358974358974, 0.09487179487179488, 0.12179487179487179, 0.15512820512820516, 0.21666666666666665, 0.3205128205128205, 0.4474358974358974, 0.5217948717948718, 0.5628205128205126, 0.6153846153846154]\n",
    "div = [0.003663003663003663, 0.07963240463240462, 0.08988881488881488, 0.1206127206127206, 0.15017112517112519, 0.20506438006438008, 0.34274376991768296, 0.46532549576027843, 0.5290755556842513, 0.5331133648959737, 0.5281188618145141]\n",
    "baseline_prec = np.ones(len(prec))* 0.6153846153846155\n",
    "baseline_div = np.ones(len(prec)) * 0.5281188618145141\n",
    "\n",
    "plt.plot(np.arange(0,1.1,0.1),prec,marker=\"o\",label=\"MD\")\n",
    "plt.plot(np.arange(0,1.1,0.1),baseline_prec,label=\"baseline\")\n",
    "plt.xlabel(\"alpha\")\n",
    "plt.ylabel(\"P@20\")\n",
    "plt.title(\"Evolution de la precision en fonction de alpha\")\n",
    "plt.legend(loc=4)\n",
    "plt.show()\n",
    "plt.plot(np.arange(0,1.1,0.1),div,marker=\"o\",label=\"MD\")\n",
    "plt.plot(np.arange(0,1.1,0.1),baseline_div,label=\"baseline\")\n",
    "plt.xlabel(\"alpha\")\n",
    "plt.ylabel(\"CR@20\")\n",
    "plt.title(\"Evolution du cluster recall en fonction de alpha\")\n",
    "plt.legend(loc=0)\n",
    "plt.show()\n"
   ]
  },
  {
   "cell_type": "code",
   "execution_count": 4,
   "metadata": {
    "collapsed": false
   },
   "outputs": [],
   "source": [
    "import numpy as np\n",
    "import matplotlib.pyplot as plt\n",
    "\n",
    "prec = [0.6064102564102564, 0.5782051282051281, 0.5884615384615385, 0.573076923076923, 0.5756410256410256, 0.573076923076923, 0.5756410256410255, 0.5846153846153848, 0.5564102564102565, 0.5615384615384615, 0.5525641025641026, 0.5564102564102564, 0.5512820512820513]\n",
    "div = [0.5294669903365555, 0.5319903928599581, 0.5595489454185107, 0.5441608311173528, 0.5661018530583748, 0.5583605203170422, 0.5614833234398453, 0.6092662973097757, 0.5643933763498982, 0.589960804091239, 0.5767365886931105, 0.6026171895737114, 0.5860681991116774]\n",
    "baseline_prec = np.ones(len(prec))* 0.6153846153846155\n",
    "baseline_div = np.ones(len(prec))* 0.5281188618145141\n",
    "\n",
    "plt.plot(np.arange(3,16),prec,marker=\"o\",label=\"KMeans\")\n",
    "plt.plot(np.arange(3,16),baseline_prec,label=\"baseline\")\n",
    "plt.xlabel(\"nombre de clusters\")\n",
    "plt.ylabel(\"P@20\")\n",
    "plt.title(\"Evolution de la precision en fonction du nombre de clusters\")\n",
    "plt.legend(loc=0)\n",
    "plt.show()\n",
    "plt.plot(np.arange(3,16),div,marker=\"o\",label=\"KMeans\")\n",
    "plt.plot(np.arange(3,16),baseline_div,label=\"baseline\")\n",
    "plt.xlabel(\"nombre de clusters\")\n",
    "plt.ylabel(\"CR@20\")\n",
    "plt.title(\"Evolution du clustering recall en fonction du nombre de clusters\")\n",
    "plt.legend(loc=0)\n",
    "plt.show()"
   ]
  }
 ],
 "metadata": {
  "kernelspec": {
   "display_name": "Python 2",
   "language": "python",
   "name": "python2"
  },
  "language_info": {
   "codemirror_mode": {
    "name": "ipython",
    "version": 2
   },
   "file_extension": ".py",
   "mimetype": "text/x-python",
   "name": "python",
   "nbconvert_exporter": "python",
   "pygments_lexer": "ipython2",
   "version": "2.7.11"
  }
 },
 "nbformat": 4,
 "nbformat_minor": 0
}
