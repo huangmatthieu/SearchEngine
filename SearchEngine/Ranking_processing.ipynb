{
 "cells": [
  {
   "cell_type": "code",
   "execution_count": 25,
   "metadata": {
    "collapsed": true
   },
   "outputs": [],
   "source": [
    "import pandas as pd\n",
    "from sklearn.cluster import KMeans\n",
    "import operator\n",
    "import os, sys"
   ]
  },
  {
   "cell_type": "code",
   "execution_count": 28,
   "metadata": {
    "collapsed": false
   },
   "outputs": [],
   "source": [
    "os.mkdir(\"C:/Users/Huang.Matthieu/Desktop/Rankings\",0754)\n",
    "for z in range(3,16):\n",
    "\n",
    "    path = \"C:/Users/Huang.Matthieu/Desktop/Rankings/Rankings\"+str(z)\n",
    "    os.mkdir( path, 0755 );\n",
    "\n",
    "    for ind in range(1,40):\n",
    "\n",
    "        df = pd.read_csv(\"Resultats/resultat_\"+str(ind)+\".csv\",sep=';')\n",
    "\n",
    "        data = df.drop([\"2354\"],axis = 1)\n",
    "        tab = data.values\n",
    "        doc = df[\"2354\"]\n",
    "\n",
    "        nbclust = z\n",
    "        clf = KMeans(nbclust,random_state=123, max_iter=500)\n",
    "        res = clf.fit_predict(data)\n",
    "        #print res\n",
    "        #print doc.values\n",
    "\n",
    "        clusters = {}\n",
    "        for nb in range(nbclust):\n",
    "            clusters[nb]=[]\n",
    "\n",
    "        for i,cluster in enumerate(res) :\n",
    "            clusters[cluster].append(doc[i])\n",
    "\n",
    "        tmp = {}\n",
    "        for key in clusters:\n",
    "            tmp[key] = len(clusters[key])\n",
    "        order = sorted(tmp.items(), key=operator.itemgetter(1),reverse = True)\n",
    "\n",
    "        rank = []\n",
    "        for i in range(len(doc)):\n",
    "            for a,b in order:\n",
    "                if i < len(clusters[a]):\n",
    "                    rank.append(clusters[a][i])\n",
    "        #print rank\n",
    "        fichier = open(\"C:/Users/Huang.Matthieu/Desktop/Rankings/Rankings\"+str(z)+\"/ranking\"+str(ind)+\".txt\", \"w\")\n",
    "        fichier.write(str(rank)[1:-1])\n",
    "        fichier.close()\n"
   ]
  },
  {
   "cell_type": "code",
   "execution_count": 24,
   "metadata": {
    "collapsed": false
   },
   "outputs": [],
   "source": [
    "from sklearn.decomposition import PCA\n",
    "import numpy as np\n",
    "pca = PCA(n_components=50)\n",
    "data_new = pca.fit_transform(data)\n",
    "\n",
    "clf = KMeans(5,random_state=123, max_iter=500)\n",
    "res = clf.fit_predict(data_new)\n",
    "res2 = clf.fit_predict(data)"
   ]
  }
 ],
 "metadata": {
  "kernelspec": {
   "display_name": "Python 2",
   "language": "python",
   "name": "python2"
  },
  "language_info": {
   "codemirror_mode": {
    "name": "ipython",
    "version": 2
   },
   "file_extension": ".py",
   "mimetype": "text/x-python",
   "name": "python",
   "nbconvert_exporter": "python",
   "pygments_lexer": "ipython2",
   "version": "2.7.11"
  }
 },
 "nbformat": 4,
 "nbformat_minor": 0
}
